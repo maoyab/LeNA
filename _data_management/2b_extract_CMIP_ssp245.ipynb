{
 "cells": [
  {
   "cell_type": "markdown",
   "metadata": {
    "pycharm": {
     "name": "#%% md\n"
    }
   },
   "source": [
    "# Google Cloud CMIP6 Public Data: Basic Python Example\n",
    "\n",
    "https://gallery.pangeo.io/repos/pangeo-gallery/cmip6/basic_search_and_load.html\n",
    "\n",
    "This notebooks shows how to query the catalog and load the data using python\n",
    "\n",
    "The columns of the dataframe correspond to the CMI6 controlled vocabulary. A beginners' guide to these terms is available in [this document](https://docs.google.com/document/d/1yUx6jr9EdedCOLd--CPdTfGDwEwzPpCF6p1jRmqx-0Q). "
   ]
  },
  {
   "cell_type": "code",
   "execution_count": 1,
   "metadata": {
    "pycharm": {
     "name": "#%%\n"
    }
   },
   "outputs": [
    {
     "name": "stderr",
     "output_type": "stream",
     "text": [
      "/Users/maoyabassiouni/opt/anaconda3/envs/basePy3.9/lib/python3.11/site-packages/pyproj/__init__.py:89: UserWarning: pyproj unable to set database path.\n",
      "  _pyproj_global_context_initialize()\n"
     ]
    }
   ],
   "source": [
    "from matplotlib import pyplot as plt\n",
    "import numpy as np\n",
    "import pandas as pd\n",
    "import xarray as xr\n",
    "import zarr\n",
    "import fsspec\n",
    "import geopandas as gpd\n",
    "import os\n",
    "import time\n",
    "\n",
    "%matplotlib inline\n",
    "%config InlineBackend.figure_format = 'retina' \n",
    "plt.rcParams['figure.figsize'] = 12, 6"
   ]
  },
  {
   "cell_type": "code",
   "execution_count": 2,
   "metadata": {},
   "outputs": [],
   "source": [
    "data_dir = '/Users/maoyabassiouni/Documents/DATA/Projects/OLNI'"
   ]
  },
  {
   "cell_type": "code",
   "execution_count": 3,
   "metadata": {},
   "outputs": [],
   "source": [
    "def get_df_CMIP(df_catalogue, query_string, print_q=None):\n",
    "    df_q = df_catalogue.query(query_string)\n",
    "    print(query_string, len(df_q.index))\n",
    "    print('')\n",
    "    if print_q:\n",
    "        print(df_q[['source_id', 'experiment_id', 'table_id', 'variable_id', 'version', 'zstore']])\n",
    "        print(list(set(df_q['source_id'].values)))\n",
    "    \n",
    "    # get the path to a specific zarr store (latest version if more than one)\n",
    "    zstore = df_q.zstore.values[-1]\n",
    "    print(zstore)\n",
    "    print('')\n",
    "    # create a mutable-mapping-style interface to the store\n",
    "    mapper = fsspec.get_mapper(zstore)\n",
    "\n",
    "    # open it using xarray and zarr\n",
    "    ds = xr.open_zarr(mapper, consolidated=True)\n",
    "    ds\n",
    "    return ds"
   ]
  },
  {
   "cell_type": "code",
   "execution_count": 4,
   "metadata": {},
   "outputs": [],
   "source": [
    "def make_loc_df(dsi, plot_locs, variable_name):\n",
    "    [variable_id, experiment_id, source_id] = variable_name.split('_')\n",
    "    data = np.array([])\n",
    "    time_f = dsi.time.values#.astype(\"float64\")\n",
    "    lat_i, lon_i, sp_i = plot_locs[0]\n",
    "    vals = dsi[variable_id].sel(lat=lat_i, lon =lon_i, method='nearest').values.astype(\"float64\")\n",
    "    ll = len(vals)\n",
    "    print(lat_i, lon_i, sp_i, ll)\n",
    "    data = np.vstack([np.ones(ll) * lat_i, \n",
    "               np.ones(ll) * lon_i, \n",
    "               np.ones(ll) * sp_i, \n",
    "               vals]).T \n",
    "    time_ff = time_f \n",
    "    for lat_i, lon_i, sp_i in plot_locs[1:]:\n",
    "        vals = dsi[variable_id].sel(lat=lat_i, lon =lon_i, method='nearest').values.astype(\"float64\")\n",
    "        ll = len(vals)\n",
    "        #print(lat_i, lon_i, sp_i, ll)\n",
    "        data_i = np.vstack([np.ones(ll) * lat_i, \n",
    "                   np.ones(ll) * lon_i, \n",
    "                   np.ones(ll) * sp_i, \n",
    "                   vals]).T \n",
    "        data = np.concatenate([data, data_i])\n",
    "        time_ff = np.concatenate([time_ff, time_f])\n",
    "    lat, lon, sp, values = zip(*data)\n",
    "    df_v = pd.DataFrame({'Lat': lat, 'Lon': lon, 'time': time_ff, 'sp': sp, variable_name: values})\n",
    "\n",
    "    return df_v"
   ]
  },
  {
   "cell_type": "code",
   "execution_count": 5,
   "metadata": {
    "pycharm": {
     "name": "#%%\n"
    }
   },
   "outputs": [
    {
     "data": {
      "text/html": [
       "<div>\n",
       "<style scoped>\n",
       "    .dataframe tbody tr th:only-of-type {\n",
       "        vertical-align: middle;\n",
       "    }\n",
       "\n",
       "    .dataframe tbody tr th {\n",
       "        vertical-align: top;\n",
       "    }\n",
       "\n",
       "    .dataframe thead th {\n",
       "        text-align: right;\n",
       "    }\n",
       "</style>\n",
       "<table border=\"1\" class=\"dataframe\">\n",
       "  <thead>\n",
       "    <tr style=\"text-align: right;\">\n",
       "      <th></th>\n",
       "      <th>activity_id</th>\n",
       "      <th>institution_id</th>\n",
       "      <th>source_id</th>\n",
       "      <th>experiment_id</th>\n",
       "      <th>member_id</th>\n",
       "      <th>table_id</th>\n",
       "      <th>variable_id</th>\n",
       "      <th>grid_label</th>\n",
       "      <th>zstore</th>\n",
       "      <th>dcpp_init_year</th>\n",
       "      <th>version</th>\n",
       "    </tr>\n",
       "  </thead>\n",
       "  <tbody>\n",
       "    <tr>\n",
       "      <th>0</th>\n",
       "      <td>HighResMIP</td>\n",
       "      <td>CMCC</td>\n",
       "      <td>CMCC-CM2-HR4</td>\n",
       "      <td>highresSST-present</td>\n",
       "      <td>r1i1p1f1</td>\n",
       "      <td>Amon</td>\n",
       "      <td>ps</td>\n",
       "      <td>gn</td>\n",
       "      <td>gs://cmip6/CMIP6/HighResMIP/CMCC/CMCC-CM2-HR4/...</td>\n",
       "      <td>NaN</td>\n",
       "      <td>20170706</td>\n",
       "    </tr>\n",
       "    <tr>\n",
       "      <th>1</th>\n",
       "      <td>HighResMIP</td>\n",
       "      <td>CMCC</td>\n",
       "      <td>CMCC-CM2-HR4</td>\n",
       "      <td>highresSST-present</td>\n",
       "      <td>r1i1p1f1</td>\n",
       "      <td>Amon</td>\n",
       "      <td>rsds</td>\n",
       "      <td>gn</td>\n",
       "      <td>gs://cmip6/CMIP6/HighResMIP/CMCC/CMCC-CM2-HR4/...</td>\n",
       "      <td>NaN</td>\n",
       "      <td>20170706</td>\n",
       "    </tr>\n",
       "    <tr>\n",
       "      <th>2</th>\n",
       "      <td>HighResMIP</td>\n",
       "      <td>CMCC</td>\n",
       "      <td>CMCC-CM2-HR4</td>\n",
       "      <td>highresSST-present</td>\n",
       "      <td>r1i1p1f1</td>\n",
       "      <td>Amon</td>\n",
       "      <td>rlus</td>\n",
       "      <td>gn</td>\n",
       "      <td>gs://cmip6/CMIP6/HighResMIP/CMCC/CMCC-CM2-HR4/...</td>\n",
       "      <td>NaN</td>\n",
       "      <td>20170706</td>\n",
       "    </tr>\n",
       "    <tr>\n",
       "      <th>3</th>\n",
       "      <td>HighResMIP</td>\n",
       "      <td>CMCC</td>\n",
       "      <td>CMCC-CM2-HR4</td>\n",
       "      <td>highresSST-present</td>\n",
       "      <td>r1i1p1f1</td>\n",
       "      <td>Amon</td>\n",
       "      <td>rlds</td>\n",
       "      <td>gn</td>\n",
       "      <td>gs://cmip6/CMIP6/HighResMIP/CMCC/CMCC-CM2-HR4/...</td>\n",
       "      <td>NaN</td>\n",
       "      <td>20170706</td>\n",
       "    </tr>\n",
       "    <tr>\n",
       "      <th>4</th>\n",
       "      <td>HighResMIP</td>\n",
       "      <td>CMCC</td>\n",
       "      <td>CMCC-CM2-HR4</td>\n",
       "      <td>highresSST-present</td>\n",
       "      <td>r1i1p1f1</td>\n",
       "      <td>Amon</td>\n",
       "      <td>psl</td>\n",
       "      <td>gn</td>\n",
       "      <td>gs://cmip6/CMIP6/HighResMIP/CMCC/CMCC-CM2-HR4/...</td>\n",
       "      <td>NaN</td>\n",
       "      <td>20170706</td>\n",
       "    </tr>\n",
       "  </tbody>\n",
       "</table>\n",
       "</div>"
      ],
      "text/plain": [
       "  activity_id institution_id     source_id       experiment_id member_id  \\\n",
       "0  HighResMIP           CMCC  CMCC-CM2-HR4  highresSST-present  r1i1p1f1   \n",
       "1  HighResMIP           CMCC  CMCC-CM2-HR4  highresSST-present  r1i1p1f1   \n",
       "2  HighResMIP           CMCC  CMCC-CM2-HR4  highresSST-present  r1i1p1f1   \n",
       "3  HighResMIP           CMCC  CMCC-CM2-HR4  highresSST-present  r1i1p1f1   \n",
       "4  HighResMIP           CMCC  CMCC-CM2-HR4  highresSST-present  r1i1p1f1   \n",
       "\n",
       "  table_id variable_id grid_label  \\\n",
       "0     Amon          ps         gn   \n",
       "1     Amon        rsds         gn   \n",
       "2     Amon        rlus         gn   \n",
       "3     Amon        rlds         gn   \n",
       "4     Amon         psl         gn   \n",
       "\n",
       "                                              zstore  dcpp_init_year   version  \n",
       "0  gs://cmip6/CMIP6/HighResMIP/CMCC/CMCC-CM2-HR4/...             NaN  20170706  \n",
       "1  gs://cmip6/CMIP6/HighResMIP/CMCC/CMCC-CM2-HR4/...             NaN  20170706  \n",
       "2  gs://cmip6/CMIP6/HighResMIP/CMCC/CMCC-CM2-HR4/...             NaN  20170706  \n",
       "3  gs://cmip6/CMIP6/HighResMIP/CMCC/CMCC-CM2-HR4/...             NaN  20170706  \n",
       "4  gs://cmip6/CMIP6/HighResMIP/CMCC/CMCC-CM2-HR4/...             NaN  20170706  "
      ]
     },
     "execution_count": 5,
     "metadata": {},
     "output_type": "execute_result"
    }
   ],
   "source": [
    "df_catalogue = pd.read_csv('https://storage.googleapis.com/cmip6/cmip6-zarr-consolidated-stores.csv')\n",
    "df_catalogue.head()"
   ]
  },
  {
   "cell_type": "code",
   "execution_count": null,
   "metadata": {},
   "outputs": [],
   "source": []
  },
  {
   "cell_type": "code",
   "execution_count": 6,
   "metadata": {},
   "outputs": [],
   "source": [
    "scenarios = [['CMIP', 'historical'], ['ScenarioMIP', 'ssp245'],['ScenarioMIP', 'ssp585']]\n",
    "\n",
    "variables_A = [['tas', 'Amon'], # Near-Surface Air Temperature [K]\n",
    "             ['hurs', 'Amon'], #Near-Surface Relative Humidity [%]\n",
    "             ['pr', 'Amon'], #Precipitation [kg m-2 s-1]\n",
    "             ['rsds', 'Amon'], #Surface Downwelling Shortwave Radiation [W m-2]\n",
    "             ]\n",
    "\n",
    "variables_B = [['evspsblpot', 'Emon'], # Potential Evapotranspiration [kg m-2 s-1]\n",
    "             ['co2mass','Amon'], #Total Atmospheric Mass of CO2 [kg]\n",
    "             ['co2s', 'Emon'],  # Atmosphere CO2 [1e-06]\n",
    "             ]"
   ]
  },
  {
   "cell_type": "markdown",
   "metadata": {},
   "source": [
    "## finding models in catalogue with required variables"
   ]
  },
  {
   "cell_type": "code",
   "execution_count": 7,
   "metadata": {
    "scrolled": false
   },
   "outputs": [
    {
     "name": "stdout",
     "output_type": "stream",
     "text": [
      "variables [['tas', 'Amon'], ['hurs', 'Amon'], ['pr', 'Amon'], ['rsds', 'Amon']]\n",
      "\n",
      "tas Amon\n",
      "\t historical 64\n",
      "\t ssp245 46\n",
      "\t ssp585 47\n",
      "n set models 46\n",
      "\n",
      "hurs Amon\n",
      "\t historical 54\n",
      "\t ssp245 38\n",
      "\t ssp585 40\n",
      "n set models 37\n",
      "\n",
      "pr Amon\n",
      "\t historical 63\n",
      "\t ssp245 46\n",
      "\t ssp585 46\n",
      "n set models 44\n",
      "\n",
      "rsds Amon\n",
      "\t historical 57\n",
      "\t ssp245 39\n",
      "\t ssp585 41\n",
      "n set models 39\n",
      "\n",
      "Selected models 32\n",
      "('INM-CM4-8', 'MIROC-ES2L', 'IITM-ESM', 'NorESM2-MM', 'GFDL-ESM4', 'CESM2-WACCM', 'GFDL-CM4', 'FGOALS-g3', 'EC-Earth3-Veg', 'CNRM-ESM2-1', 'CanESM5-CanOE', 'IPSL-CM6A-LR', 'CMCC-CM2-SR5', 'CESM2', 'CNRM-CM6-1', 'KIOST-ESM', 'ACCESS-CM2', 'EC-Earth3-Veg-LR', 'CanESM5', 'HadGEM3-GC31-LL', 'MPI-ESM1-2-LR', 'UKESM1-0-LL', 'MPI-ESM1-2-HR', 'FIO-ESM-2-0', 'CNRM-CM6-1-HR', 'EC-Earth3', 'FGOALS-f3-L', 'MIROC6', 'MRI-ESM2-0', 'GISS-E2-1-G', 'INM-CM5-0', 'KACE-1-0-G')\n"
     ]
    }
   ],
   "source": [
    "print('variables', variables_A)\n",
    "print('')\n",
    "\n",
    "models_set_all = []\n",
    "for variable_id, table_id in variables_A:\n",
    "    print(variable_id, table_id)\n",
    "    models_v = []\n",
    "    for activity_id, experiment_id in scenarios:\n",
    "        query_string = \"activity_id== '%s' & table_id == '%s' & variable_id == '%s' \\\n",
    "                        & experiment_id == '%s'\"  \\\n",
    "                        % (activity_id, table_id, variable_id, experiment_id)\n",
    "\n",
    "        df_q = df_catalogue.query(query_string)\n",
    "        models = list(set(df_q['source_id'].values))\n",
    "        models_v.append(models)\n",
    "        print('\\t', experiment_id, len(models))\n",
    "        #print(models[:6])\n",
    "    models_set = []\n",
    "    for m in models_v[0]:\n",
    " \n",
    "        mi = [1 for i in models_v[1:] if m in i]\n",
    "        if len(mi)==(len(scenarios)-1):\n",
    "            models_set.append([m, len(mi)+1])\n",
    "    models_set_all.append(models_set)\n",
    "    print('n set models', len(models_set))\n",
    "    print('')\n",
    "    \n",
    "models_select = []\n",
    "for m, nm in models_set_all[0]:\n",
    "    mi = [1 for i in models_set_all[1:] if m in list(zip(*i))[0]]\n",
    "    if len(mi)==(len(variables_A)-1):\n",
    "        models_select.append([m, len(mi)+1])\n",
    "print('Selected models', len(models_select))\n",
    "print(list(zip(*models_select))[0])"
   ]
  },
  {
   "cell_type": "code",
   "execution_count": 8,
   "metadata": {},
   "outputs": [
    {
     "name": "stdout",
     "output_type": "stream",
     "text": [
      "evspsblpot Emon\n",
      "\t historical 6\n",
      "\t ssp245 4\n",
      "\t ssp585 5\n",
      "n set models 3\n",
      "[['CNRM-ESM2-1', 3], ['IPSL-CM6A-LR', 3], ['CNRM-CM6-1', 3]]\n",
      "co2mass Amon\n",
      "\t historical 17\n",
      "\t ssp245 2\n",
      "\t ssp585 2\n",
      "n set models 2\n",
      "[['GFDL-ESM4', 3], ['GFDL-CM4', 3]]\n",
      "co2s Emon\n",
      "\t historical 1\n",
      "\t ssp245 1\n",
      "\t ssp585 1\n",
      "n set models 1\n",
      "[['GFDL-ESM4', 3]]\n"
     ]
    }
   ],
   "source": [
    "\n",
    "models_set_all = []\n",
    "for variable_id, table_id in variables_B:\n",
    "    print(variable_id, table_id)\n",
    "    models_v = []\n",
    "    for activity_id, experiment_id in scenarios:\n",
    "        query_string = \"activity_id== '%s' & table_id == '%s' & variable_id == '%s' \\\n",
    "                        & experiment_id == '%s'\"  \\\n",
    "                        % (activity_id, table_id, variable_id, experiment_id)\n",
    "\n",
    "        df_q = df_catalogue.query(query_string)\n",
    "        models = list(set(df_q['source_id'].values))\n",
    "        models_v.append(models)\n",
    "        print('\\t', experiment_id, len(models))\n",
    "        #print(models[:6])\n",
    "    models_set = []\n",
    "    for m in models_v[0]:\n",
    " \n",
    "        mi = [1 for i in models_v[1:] if m in i]\n",
    "        if len(mi)==(len(scenarios)-1):\n",
    "            models_set.append([m, len(mi)+1])\n",
    "    models_set_all.append(models_set)\n",
    "    print('n set models', len(models_set))\n",
    "    print(models_set)\n",
    "    "
   ]
  },
  {
   "cell_type": "markdown",
   "metadata": {},
   "source": [
    "## Extract loc data"
   ]
  },
  {
   "cell_type": "code",
   "execution_count": 9,
   "metadata": {},
   "outputs": [
    {
     "data": {
      "text/plain": [
       "MultiIndex([(36.3706, -5.5783,  54.0),\n",
       "            (37.0314,  -3.015,  46.0),\n",
       "            (37.1553, -6.7325, 131.0),\n",
       "            (37.9017, -2.8986, 129.0),\n",
       "            (37.9089, 13.4042,  41.0),\n",
       "            (38.4272, 16.1797,  20.0),\n",
       "            (38.4736, -6.7578,  46.0),\n",
       "            (38.4764, -2.4556, 130.0),\n",
       "            (38.5197, -0.6314, 125.0),\n",
       "            (38.8461,  21.305,  46.0),\n",
       "            ...\n",
       "            (65.8836,    13.8, 118.0),\n",
       "            (65.9688, 23.6717, 118.0),\n",
       "            (66.2986, 29.4625, 118.0),\n",
       "            (66.3025, 29.5011, 118.0),\n",
       "            (66.3325, 26.6456, 118.0),\n",
       "            (66.3631, 26.7336, 134.0),\n",
       "            (67.3356, 26.6489, 134.0),\n",
       "            (67.9503, 24.0572, 134.0),\n",
       "            (67.9994, 24.2361, 118.0),\n",
       "            (69.7389, 26.9581, 134.0)],\n",
       "           names=['Lat', 'Lon', 'sp'], length=409)"
      ]
     },
     "execution_count": 9,
     "metadata": {},
     "output_type": "execute_result"
    }
   ],
   "source": [
    "df_ts_ = pd.read_csv(os.path.join(data_dir ,'model_inputs', 'df_model_all_annual.csv'))\n",
    "df_ts_ = df_ts_[(df_ts_['yrange']>=10) & (df_ts_['count']>=6) \n",
    "                & (df_ts_['MODIS_Lai'].notna()) & (df_ts_['SATPSI'].notna())\n",
    "                & (df_ts_['LNC'].notna())]\n",
    "df_ts_ = df_ts_[(df_ts_['year']>=1995) & (df_ts_['year']<=2016)]\n",
    "\n",
    "plot_locs = df_ts_.groupby(['Lat', 'Lon', 'sp']).mean().index\n",
    "plot_locs"
   ]
  },
  {
   "cell_type": "code",
   "execution_count": 10,
   "metadata": {},
   "outputs": [
    {
     "name": "stdout",
     "output_type": "stream",
     "text": [
      "409\n",
      "312\n"
     ]
    }
   ],
   "source": [
    "df_area = df_catalogue.query(\"variable_id == 'areacella' & source_id == 'GFDL-ESM4'\")\n",
    "ds_area = xr.open_zarr(fsspec.get_mapper(df_area.zstore.values[0]), consolidated=True)\n",
    "plot_locs_cmip = []\n",
    "for lat_i, lon_i, sp_i in plot_locs:\n",
    "    ds_area_i = ds_area.sel(lat=lat_i, lon =lon_i, method='nearest')\n",
    "    lon_c = ds_area_i['lon'].values.item()  \n",
    "    lat_c = ds_area_i['lat'].values.item()  \n",
    "    #lon_c = ds_area.lon.sel(lat=lat_i, lon =lon_i, method='nearest').values\n",
    "    plot_locs_cmip.append('%5.4f_%5.4f_%d' %(lat_c, lon_c, sp_i))\n",
    "\n",
    "print(len(plot_locs_cmip))\n",
    "plot_locs_cmip_set = list(set(plot_locs_cmip))\n",
    "plot_locs_cmip_set = [loc.split('_') for loc in plot_locs_cmip_set]\n",
    "plot_locs_cmip_set = [[float(l) for l in loc] for loc in plot_locs_cmip_set]\n",
    "print(len(plot_locs_cmip_set))"
   ]
  },
  {
   "cell_type": "markdown",
   "metadata": {},
   "source": [
    "## Extract climate timeseries by model"
   ]
  },
  {
   "cell_type": "code",
   "execution_count": 11,
   "metadata": {},
   "outputs": [],
   "source": [
    "models = [##'ACCESS-CM2',\n",
    "          ##'CanESM5',\n",
    "          ##'CESM2',\n",
    "          #'CESM2-WACCM',\n",
    "          #'CMCC-CM2-SR5',\n",
    "          ##'CNRM-CM6-1',\n",
    "          #'CNRM-CM6-1-HR',\n",
    "          #'CNRM-ESM2-1',\n",
    "          #'CanESM5-CanOE',\n",
    "          #'EC-Earth3',\n",
    "          #'EC-Earth3-Veg',\n",
    "          ##'EC-Earth3-Veg-LR',\n",
    "          #'FGOALS-f3-L',\n",
    "          ##'FGOALS-g3',\n",
    "          #'FIO-ESM-2-0',\n",
    "          ##'GFDL-CM4',\n",
    "          #'GFDL-ESM4',\n",
    "          ##'GISS-E2-1-G',\n",
    "          #'HadGEM3-GC31-LL',\n",
    "          ##'IITM-ESM',\n",
    "          #'INM-CM4-8',\n",
    "          ##'INM-CM5-0',\n",
    "          ##'IPSL-CM6A-LR',\n",
    "          #'KACE-1-0-G',\n",
    "          ##'KIOST-ESM',\n",
    "          #'MIROC-ES2L',\n",
    "          ##'MIROC6',\n",
    "          #'MPI-ESM1-2-HR',\n",
    "          'MPI-ESM1-2-LR',\n",
    "          'MRI-ESM2-0',\n",
    "          'NorESM2-MM',\n",
    "          'UKESM1-0-LL']"
   ]
  },
  {
   "cell_type": "code",
   "execution_count": 12,
   "metadata": {},
   "outputs": [
    {
     "data": {
      "text/plain": [
       "[['tas', 'Amon'], ['hurs', 'Amon']]"
      ]
     },
     "execution_count": 12,
     "metadata": {},
     "output_type": "execute_result"
    }
   ],
   "source": [
    "variables_A = variables_A[:2]\n",
    "variables_A"
   ]
  },
  {
   "cell_type": "code",
   "execution_count": 13,
   "metadata": {},
   "outputs": [
    {
     "name": "stdout",
     "output_type": "stream",
     "text": [
      "tas_ssp245_MPI-ESM1-2-LR .....................................................\n",
      ".............................................................................................\n",
      "activity_id== 'ScenarioMIP' & table_id == 'Amon' & variable_id == 'tas'                         & experiment_id == 'ssp245' & source_id == 'MPI-ESM1-2-LR' 10\n",
      "\n",
      "gs://cmip6/CMIP6/ScenarioMIP/MPI-M/MPI-ESM1-2-LR/ssp245/r9i1p1f1/Amon/tas/gn/v20190710/\n",
      "\n",
      "36.3706 -5.5783 54.0 1032\n",
      "hurs_ssp245_MPI-ESM1-2-LR .....................................................\n",
      ".............................................................................................\n",
      "activity_id== 'ScenarioMIP' & table_id == 'Amon' & variable_id == 'hurs'                         & experiment_id == 'ssp245' & source_id == 'MPI-ESM1-2-LR' 10\n",
      "\n",
      "gs://cmip6/CMIP6/ScenarioMIP/MPI-M/MPI-ESM1-2-LR/ssp245/r4i1p1f1/Amon/hurs/gn/v20190815/\n",
      "\n",
      "36.3706 -5.5783 54.0 1032\n",
      "tas_ssp245_MRI-ESM2-0 .....................................................\n",
      ".............................................................................................\n",
      "activity_id== 'ScenarioMIP' & table_id == 'Amon' & variable_id == 'tas'                         & experiment_id == 'ssp245' & source_id == 'MRI-ESM2-0' 10\n",
      "\n",
      "gs://cmip6/CMIP6/ScenarioMIP/MRI/MRI-ESM2-0/ssp245/r4i1p1f1/Amon/tas/gn/v20210830/\n",
      "\n",
      "36.3706 -5.5783 54.0 1032\n",
      "hurs_ssp245_MRI-ESM2-0 .....................................................\n",
      ".............................................................................................\n",
      "activity_id== 'ScenarioMIP' & table_id == 'Amon' & variable_id == 'hurs'                         & experiment_id == 'ssp245' & source_id == 'MRI-ESM2-0' 10\n",
      "\n",
      "gs://cmip6/CMIP6/ScenarioMIP/MRI/MRI-ESM2-0/ssp245/r1i3p1f1/Amon/hurs/gn/v20201222/\n",
      "\n",
      "36.3706 -5.5783 54.0 432\n",
      "tas_ssp245_NorESM2-MM .....................................................\n",
      ".............................................................................................\n",
      "activity_id== 'ScenarioMIP' & table_id == 'Amon' & variable_id == 'tas'                         & experiment_id == 'ssp245' & source_id == 'NorESM2-MM' 2\n",
      "\n",
      "gs://cmip6/CMIP6/ScenarioMIP/NCC/NorESM2-MM/ssp245/r2i1p1f1/Amon/tas/gn/v20200702/\n",
      "\n",
      "36.3706 -5.5783 54.0 1032\n",
      "hurs_ssp245_NorESM2-MM .....................................................\n",
      ".............................................................................................\n",
      "activity_id== 'ScenarioMIP' & table_id == 'Amon' & variable_id == 'hurs'                         & experiment_id == 'ssp245' & source_id == 'NorESM2-MM' 2\n",
      "\n",
      "gs://cmip6/CMIP6/ScenarioMIP/NCC/NorESM2-MM/ssp245/r2i1p1f1/Amon/hurs/gn/v20200702/\n",
      "\n",
      "36.3706 -5.5783 54.0 1032\n",
      "tas_ssp245_UKESM1-0-LL .....................................................\n",
      ".............................................................................................\n",
      "activity_id== 'ScenarioMIP' & table_id == 'Amon' & variable_id == 'tas'                         & experiment_id == 'ssp245' & source_id == 'UKESM1-0-LL' 17\n",
      "\n",
      "gs://cmip6/CMIP6/ScenarioMIP/MOHC/UKESM1-0-LL/ssp245/r12i1p1f2/Amon/tas/gn/v20210510/\n",
      "\n",
      "36.3706 -5.5783 54.0 1032\n",
      "hurs_ssp245_UKESM1-0-LL .....................................................\n",
      ".............................................................................................\n",
      "activity_id== 'ScenarioMIP' & table_id == 'Amon' & variable_id == 'hurs'                         & experiment_id == 'ssp245' & source_id == 'UKESM1-0-LL' 6\n",
      "\n",
      "gs://cmip6/CMIP6/ScenarioMIP/NIMS-KMA/UKESM1-0-LL/ssp245/r13i1p1f2/Amon/hurs/gn/v20200818/\n",
      "\n",
      "36.3706 -5.5783 54.0 1032\n"
     ]
    }
   ],
   "source": [
    "#source_id = 'CESM2'\n",
    "locations = plot_locs\n",
    "#locations = plot_locs_cmip_set\n",
    "activity_id = 'ScenarioMIP'\n",
    "experiment_id = 'ssp245'\n",
    "#for activity_id, experiment_id in scenarios:\n",
    "for source_id in models:\n",
    "    for variable_id, table_id in variables_A:\n",
    "        variable_name = '%s_%s_%s' % (variable_id, experiment_id, source_id)\n",
    "        print(variable_name, '.....................................................')\n",
    "        print('.............................................................................................')\n",
    "        query_string = \"activity_id== '%s' & table_id == '%s' & variable_id == '%s' \\\n",
    "                        & experiment_id == '%s' & source_id == '%s'\" \\\n",
    "                        % (activity_id, table_id, variable_id, experiment_id, source_id)\n",
    "\n",
    "        dsi = get_df_CMIP(df_catalogue, query_string)\n",
    "        df_v = make_loc_df(dsi, locations, variable_name)\n",
    "        df_v.to_csv(os.path.join(data_dir, 'grid_data_extract/CMIP', '%s.csv' % (variable_name))) \n"
   ]
  },
  {
   "cell_type": "markdown",
   "metadata": {},
   "source": [
    "## Extract CO2 timeseries"
   ]
  },
  {
   "cell_type": "code",
   "execution_count": 42,
   "metadata": {},
   "outputs": [],
   "source": []
  },
  {
   "cell_type": "code",
   "execution_count": 52,
   "metadata": {},
   "outputs": [
    {
     "name": "stdout",
     "output_type": "stream",
     "text": [
      "co2s_historical_GFDL-ESM4\n",
      "activity_id== 'CMIP' & table_id == 'Emon' & variable_id == 'co2s'                             & experiment_id == 'historical' & source_id == 'GFDL-ESM4' 1\n",
      "\n",
      "gs://cmip6/CMIP6/CMIP/NOAA-GFDL/GFDL-ESM4/historical/r1i1p1f1/Emon/co2s/gr1/v20190726/\n",
      "co2s_ssp245_GFDL-ESM4\n",
      "activity_id== 'ScenarioMIP' & table_id == 'Emon' & variable_id == 'co2s'                             & experiment_id == 'ssp245' & source_id == 'GFDL-ESM4' 1\n",
      "\n",
      "gs://cmip6/CMIP6/ScenarioMIP/NOAA-GFDL/GFDL-ESM4/ssp245/r1i1p1f1/Emon/co2s/gr1/v20180701/\n",
      "co2s_ssp370_GFDL-ESM4\n",
      "activity_id== 'ScenarioMIP' & table_id == 'Emon' & variable_id == 'co2s'                             & experiment_id == 'ssp370' & source_id == 'GFDL-ESM4' 1\n",
      "\n",
      "gs://cmip6/CMIP6/ScenarioMIP/NOAA-GFDL/GFDL-ESM4/ssp370/r1i1p1f1/Emon/co2s/gr1/v20180701/\n",
      "co2s_ssp585_GFDL-ESM4\n",
      "activity_id== 'ScenarioMIP' & table_id == 'Emon' & variable_id == 'co2s'                             & experiment_id == 'ssp585' & source_id == 'GFDL-ESM4' 1\n",
      "\n",
      "gs://cmip6/CMIP6/ScenarioMIP/NOAA-GFDL/GFDL-ESM4/ssp585/r1i1p1f1/Emon/co2s/gr1/v20180701/\n"
     ]
    }
   ],
   "source": [
    "min_lat = np.min(list(zip(*plot_locs_cmip_set))[0])\n",
    "max_lat = np.max(list(zip(*plot_locs_cmip_set))[0])\n",
    "min_lon = np.min(list(zip(*plot_locs_cmip_set))[1])\n",
    "max_lon = np.max(list(zip(*plot_locs_cmip_set))[1])\n",
    "\n",
    "df_area = df_catalogue.query(\"variable_id == 'areacella' & source_id == 'GFDL-ESM4'\")\n",
    "ds_area = xr.open_zarr(fsspec.get_mapper(df_area.zstore.values[0]), consolidated=True)\n",
    "ds_area = ds_area.sel(lat=slice(min_lat, max_lat), lon=slice(min_lon, max_lon))\n",
    "total_area = ds_area.areacella.sum(dim=['lon', 'lat'])\n",
    "\n",
    "source_id = 'GFDL-ESM4'\n",
    "table_id = 'Emon'\n",
    "variable_id = 'co2s'\n",
    "for activity_id, experiment_id in scenarios: \n",
    "    variable_name = '%s_%s_%s' % (variable_id, experiment_id, source_id)\n",
    "    print(variable_name)\n",
    "    query_string = \"activity_id== '%s' & table_id == '%s' & variable_id == '%s' \\\n",
    "                            & experiment_id == '%s' & source_id == '%s'\" \\\n",
    "                            % (activity_id, table_id, variable_id, experiment_id, source_id)\n",
    "\n",
    "    dsi = get_df_CMIP(df_catalogue, query_string)\n",
    "    dsi = dsi.sel(lat=slice(min_lat, max_lat), lon=slice(min_lon, max_lon))\n",
    "    co2_timeseries = (dsi[variable_id] * ds_area.areacella).sum(dim=['lon', 'lat']) / total_area\n",
    "    \n",
    "    co2_y_timeseries = co2_timeseries.resample(time='AS').mean('time')\n",
    "    co2_df = pd.DataFrame({'datetime': co2_y_timeseries.time, 'CO2_%s' % experiment_id: co2_y_timeseries.values})\n",
    "    co2_df.to_csv(os.path.join(data_dir, 'grid_data_extract/CMIP', '%s.csv' % (variable_name))) "
   ]
  },
  {
   "cell_type": "code",
   "execution_count": null,
   "metadata": {},
   "outputs": [],
   "source": []
  },
  {
   "cell_type": "code",
   "execution_count": null,
   "metadata": {},
   "outputs": [],
   "source": []
  },
  {
   "cell_type": "code",
   "execution_count": null,
   "metadata": {},
   "outputs": [],
   "source": []
  },
  {
   "cell_type": "code",
   "execution_count": null,
   "metadata": {},
   "outputs": [],
   "source": []
  },
  {
   "cell_type": "code",
   "execution_count": 13,
   "metadata": {},
   "outputs": [],
   "source": [
    "df_area = df_catalogue.query(\"variable_id == 'areacella' & source_id == 'CESM2'\")\n",
    "ds_area = xr.open_zarr(fsspec.get_mapper(df_area.zstore.values[0]), consolidated=True)"
   ]
  },
  {
   "cell_type": "code",
   "execution_count": null,
   "metadata": {},
   "outputs": [],
   "source": [
    "query_string = \"activity_id=='ScenarioMIP' \\\n",
    "                & table_id == 'Amon' \\\n",
    "                & variable_id == 'tas' \\\n",
    "                & experiment_id == 'ssp245'\\\n",
    "                & institution_id == 'NCAR'\"\n",
    "variable_id = 'tas'\n",
    "dsi = get_df_CMIP(df_catalogue, query_string, print_q=True)"
   ]
  },
  {
   "cell_type": "code",
   "execution_count": null,
   "metadata": {},
   "outputs": [],
   "source": [
    "dsi[variable_id].sel(time='2050-01').squeeze().plot()"
   ]
  },
  {
   "cell_type": "code",
   "execution_count": null,
   "metadata": {},
   "outputs": [],
   "source": [
    "total_area = ds_area.areacella.sum(dim=['lon', 'lat'])\n",
    "total_area"
   ]
  },
  {
   "cell_type": "code",
   "execution_count": null,
   "metadata": {},
   "outputs": [],
   "source": [
    "ta_timeseries = (dsi[variable_id] * ds_area.areacella).sum(dim=['lon', 'lat']) / total_area\n",
    "ta_timeseries"
   ]
  },
  {
   "cell_type": "code",
   "execution_count": null,
   "metadata": {},
   "outputs": [],
   "source": [
    "%time ta_timeseries.load()\n",
    "ta_timeseries.plot(label='monthly')\n",
    "ta_timeseries.rolling(time=12).mean().plot(label='12 month rolling mean')\n",
    "plt.legend()\n"
   ]
  },
  {
   "cell_type": "code",
   "execution_count": null,
   "metadata": {},
   "outputs": [],
   "source": []
  },
  {
   "cell_type": "code",
   "execution_count": null,
   "metadata": {},
   "outputs": [],
   "source": []
  },
  {
   "cell_type": "code",
   "execution_count": null,
   "metadata": {},
   "outputs": [],
   "source": []
  },
  {
   "cell_type": "code",
   "execution_count": null,
   "metadata": {},
   "outputs": [],
   "source": [
    "world = gpd.read_file(gpd.datasets.get_path('naturalearth_lowres'))\n",
    "europe = world[world['continent']=='Europe']\n",
    "print(europe['name'].values)\n",
    "x_names = ['Russia','Iceland']\n",
    "europe_sel = europe\n",
    "for n in x_names:\n",
    "    europe_sel = europe_sel[europe_sel['name']!=n]\n",
    "europe_sel.plot()"
   ]
  },
  {
   "cell_type": "code",
   "execution_count": null,
   "metadata": {},
   "outputs": [],
   "source": []
  }
 ],
 "metadata": {
  "kernelspec": {
   "display_name": "basePy3.9",
   "language": "python",
   "name": "basepy3.9"
  },
  "language_info": {
   "codemirror_mode": {
    "name": "ipython",
    "version": 3
   },
   "file_extension": ".py",
   "mimetype": "text/x-python",
   "name": "python",
   "nbconvert_exporter": "python",
   "pygments_lexer": "ipython3",
   "version": "3.11.5"
  }
 },
 "nbformat": 4,
 "nbformat_minor": 4
}

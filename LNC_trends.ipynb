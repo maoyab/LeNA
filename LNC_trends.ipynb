{
 "cells": [
  {
   "cell_type": "code",
   "execution_count": 1,
   "id": "012bbb1b",
   "metadata": {
    "pycharm": {
     "name": "#%%\n"
    }
   },
   "outputs": [
    {
     "name": "stderr",
     "output_type": "stream",
     "text": [
      "IProgress not found. Please update jupyter and ipywidgets. See https://ipywidgets.readthedocs.io/en/stable/user_install.html\n"
     ]
    }
   ],
   "source": [
    "import os\n",
    "import numpy as np\n",
    "import matplotlib.pyplot as plt\n",
    "import pandas as pd\n",
    "\n",
    "from lnc_analysis import*"
   ]
  },
  {
   "cell_type": "code",
   "execution_count": 2,
   "id": "205df3d0",
   "metadata": {
    "pycharm": {
     "name": "#%%\n"
    }
   },
   "outputs": [],
   "source": [
    "%load_ext autoreload\n",
    "%autoreload 2"
   ]
  },
  {
   "cell_type": "code",
   "execution_count": 3,
   "id": "10029324",
   "metadata": {
    "pycharm": {
     "name": "#%%\n"
    }
   },
   "outputs": [],
   "source": [
    "import warnings\n",
    "warnings.filterwarnings('ignore')"
   ]
  },
  {
   "cell_type": "code",
   "execution_count": 4,
   "id": "7f4a68ab",
   "metadata": {},
   "outputs": [],
   "source": [
    "data_dir = '/Users/maoyabassiouni/Documents/DATA/Projects/OLNI'"
   ]
  },
  {
   "cell_type": "code",
   "execution_count": 5,
   "id": "f7a653a5",
   "metadata": {},
   "outputs": [],
   "source": [
    "common_mean = 18"
   ]
  },
  {
   "cell_type": "markdown",
   "id": "fb231cc5",
   "metadata": {
    "pycharm": {
     "name": "#%% md\n"
    }
   },
   "source": [
    "# Data\n",
    "\n",
    "select sites with >10 year range and at least 6 pts"
   ]
  },
  {
   "cell_type": "code",
   "execution_count": 6,
   "id": "1c0832b0",
   "metadata": {},
   "outputs": [],
   "source": [
    "data_f = os.path.join(data_dir ,'model_inputs', 'df_model_all_annual.csv')\n",
    "df_ts_ = open_lnc_data(data_f)"
   ]
  },
  {
   "cell_type": "code",
   "execution_count": 7,
   "id": "f8dc8541",
   "metadata": {},
   "outputs": [
    {
     "name": "stdout",
     "output_type": "stream",
     "text": [
      "study n years 22\n",
      "study CO2 delta 43.0\n",
      "n datapoints: 4228\n",
      "n plots: 409\n",
      "Boreal plots: 25\n",
      "Temperate plots: 338\n",
      "Mediterranean plots: 46\n",
      "number of species 32\n",
      "LNC median 16\n",
      "LNC mean 18\n"
     ]
    }
   ],
   "source": [
    "print('study n years', 2016 - 1995 + 1)\n",
    "print('study CO2 delta', np.round((np.max(df_ts_['CO2']) - np.min(df_ts_['CO2']))* 10 **6))\n",
    "print('n datapoints:', len(df_ts_.index))\n",
    "print('n plots:', len(df_ts_.groupby(['Lat', 'Lon', 'sp']).count().index))\n",
    "for cm, climate in zip([1, 2, 3], ['Boreal', 'Temperate', 'Mediterranean']):\n",
    "    print(climate, 'plots:', len(df_ts_[df_ts_['climate_zone']==cm].groupby(['Lat', 'Lon', 'sp']).count().index))\n",
    "print('number of species', len(list(set(df_ts_['sp'].values))))\n",
    "print('LNC median %d' % np.round(np.median(df_ts_.groupby(['Lat', 'Lon', 'sp']).median()['LNC'])))\n",
    "print('LNC mean %d' % np.round(np.mean(df_ts_.groupby(['Lat', 'Lon', 'sp']).median()['LNC'])))"
   ]
  },
  {
   "cell_type": "markdown",
   "id": "d73eaba7",
   "metadata": {},
   "source": [
    "# Trends & models"
   ]
  },
  {
   "cell_type": "markdown",
   "id": "91945179",
   "metadata": {},
   "source": [
    "- standardize all LNC to same mean 18 mg/g (equal to the mean of means grouped by lat, lon, species)\n",
    "- sen slope LNC vs year\n",
    "- growing season climate (terraclimate)\n",
    "- sunlit leaf"
   ]
  },
  {
   "cell_type": "markdown",
   "id": "427b8eab",
   "metadata": {},
   "source": [
    "### ICP Observed Trends\n",
    "\n"
   ]
  },
  {
   "cell_type": "code",
   "execution_count": 8,
   "id": "f98ac194",
   "metadata": {},
   "outputs": [],
   "source": [
    "df_ts_ = standardize_to_common_mean('LNC', df_ts_, common_mean=common_mean)"
   ]
  },
  {
   "cell_type": "code",
   "execution_count": 9,
   "id": "83dfd022",
   "metadata": {},
   "outputs": [],
   "source": [
    "trend_result_all = trend_summary_df('LNC_stdm', df_ts_)"
   ]
  },
  {
   "cell_type": "markdown",
   "id": "b3bdedb5",
   "metadata": {},
   "source": [
    "### Calculate SWB for each growing season"
   ]
  },
  {
   "cell_type": "code",
   "execution_count": 10,
   "id": "1e12e954",
   "metadata": {},
   "outputs": [],
   "source": [
    "variant = 'gs_LTavg'\n",
    "df_ts_ = add_swb_model(df_ts_, variant)"
   ]
  },
  {
   "cell_type": "code",
   "execution_count": 11,
   "id": "4b588fdf",
   "metadata": {
    "scrolled": true
   },
   "outputs": [],
   "source": [
    "variant = 'gs_yi'\n",
    "df_ts_ = add_swb_model(df_ts_, variant)"
   ]
  },
  {
   "cell_type": "markdown",
   "id": "e11efcd9",
   "metadata": {},
   "source": [
    "### LTavg climate to trend DF"
   ]
  },
  {
   "cell_type": "code",
   "execution_count": 12,
   "id": "6e0d5df2",
   "metadata": {},
   "outputs": [],
   "source": [
    "clim_n = ['TC_par_gs_LTavg',  'TC_pet_gs_LTavg', 'TC_pre_gs_LTavg', \n",
    "          'TC_tmean_gs_LTavg', 'TC_vpd_gs_LTavg', 'TC_AI_gs_LTavg',\n",
    "            's_stressB_gs_yi_canopy_swb', 's_epsilon_gs_yi_canopy_swb']\n",
    "lt_clim = []\n",
    "\n",
    "for ii, tti in trend_result_all.iterrows():\n",
    "    dsix = df_ts_[(df_ts_['Lat']==tti['Lat']) \n",
    "                 & (df_ts_['Lon']==tti['Lon'])\n",
    "                 & (df_ts_['sp']==tti['sp'])]\n",
    "    lt_clim.append([np.mean(dsix[kk]) for kk in clim_n])\n",
    "lt_clim = zip(*lt_clim)\n",
    "for vv, kk in zip(lt_clim, clim_n):\n",
    "    trend_result_all[kk]=vv"
   ]
  },
  {
   "cell_type": "markdown",
   "id": "d49bd469",
   "metadata": {},
   "source": [
    "### Calculate P-model "
   ]
  },
  {
   "cell_type": "code",
   "execution_count": 13,
   "id": "f8ec67d7",
   "metadata": {},
   "outputs": [],
   "source": [
    "clim_v = 'gs_yi'\n",
    "co2_v = 'CO2_yi'\n",
    "stressB = 1\n",
    "model_tag ='sunlit_ww'\n",
    "variant = [model_tag, clim_v, co2_v, stressB]\n",
    "\n",
    "trend_result_all, df_ts_ = add_p_model(df_ts_, trend_result_all, variant, common_mean)"
   ]
  },
  {
   "cell_type": "code",
   "execution_count": 14,
   "id": "424c4973",
   "metadata": {},
   "outputs": [],
   "source": [
    "clim_v = 'gs_LTavg'\n",
    "co2_v = 'CO2_yi'\n",
    "stressB = 1\n",
    "model_tag ='sunlit_ww'\n",
    "variant = [model_tag, clim_v, co2_v, stressB]\n",
    "\n",
    "trend_result_all, df_ts_ = add_p_model(df_ts_, trend_result_all, variant, common_mean)\n"
   ]
  },
  {
   "cell_type": "code",
   "execution_count": 15,
   "id": "7e8142c2",
   "metadata": {},
   "outputs": [],
   "source": [
    "clim_v = 'gs_yi'\n",
    "co2_v = 'CO2_LTavg'\n",
    "stressB = 1\n",
    "model_tag ='sunlit_ww0'\n",
    "variant = [model_tag, clim_v, co2_v, stressB]\n",
    "\n",
    "trend_result_all, df_ts_ = add_p_model(df_ts_, trend_result_all, variant, common_mean)"
   ]
  },
  {
   "cell_type": "markdown",
   "id": "9f4a1c74",
   "metadata": {},
   "source": [
    "### P-model + SWB"
   ]
  },
  {
   "cell_type": "code",
   "execution_count": 16,
   "id": "ae081d27",
   "metadata": {},
   "outputs": [],
   "source": [
    "clim_v = 'gs_yi'\n",
    "co2_v = 'CO2_yi'\n",
    "stressB= df_ts_['s_stressB_%s_canopy_swb' % clim_v]\n",
    "model_tag ='sunlit_s_stressB'\n",
    "variant = [model_tag, clim_v, co2_v, stressB]\n",
    "\n",
    "trend_result_all, df_ts_ = add_p_model(df_ts_, trend_result_all, variant, common_mean)"
   ]
  },
  {
   "cell_type": "code",
   "execution_count": 17,
   "id": "c013e31a",
   "metadata": {},
   "outputs": [],
   "source": [
    "clim_v = 'gs_LTavg'\n",
    "co2_v = 'CO2_yi'\n",
    "stressB= df_ts_['s_stressB_%s_canopy_swb' % clim_v]\n",
    "model_tag ='sunlit_s_stressB'\n",
    "variant = [model_tag, clim_v, co2_v, stressB]\n",
    "\n",
    "trend_result_all, df_ts_ = add_p_model(df_ts_, trend_result_all, variant, common_mean)"
   ]
  },
  {
   "cell_type": "code",
   "execution_count": 18,
   "id": "d03e4615",
   "metadata": {},
   "outputs": [],
   "source": [
    "clim_v = 'gs_yi'\n",
    "co2_v = 'CO2_LTavg'\n",
    "stressB= df_ts_['s_stressB_%s_canopy_swb' % clim_v]\n",
    "model_tag ='sunlit_s_stressB0'\n",
    "variant = [model_tag, clim_v, co2_v, stressB]\n",
    "\n",
    "trend_result_all, df_ts_ = add_p_model(df_ts_, trend_result_all, variant, common_mean)"
   ]
  },
  {
   "cell_type": "markdown",
   "id": "bd2a8e73",
   "metadata": {},
   "source": [
    "### Random Forest"
   ]
  },
  {
   "cell_type": "code",
   "execution_count": 19,
   "id": "65e5d4d4",
   "metadata": {
    "scrolled": true
   },
   "outputs": [
    {
     "name": "stdout",
     "output_type": "stream",
     "text": [
      "0 [   0    2    3 ... 4224 4225 4226]\n",
      "Base Model Performance\n",
      "Average Error: 0.4743 degrees.\n",
      "Accuracy = 97.02%.\n",
      "_m1_k0 Model Performance\n",
      "Average Error: 1.1228 degrees.\n",
      "Accuracy = 93.12%.\n",
      "Variable: tmp                  Importance: 0.04\n",
      "Variable: vpd                  Importance: 0.11\n",
      "Variable: par                  Importance: 0.0\n",
      "Variable: stressB              Importance: 0.14\n",
      "Variable: CO2                  Importance: 0.71\n",
      "1 [   0    1    3 ... 4225 4226 4227]\n",
      "Base Model Performance\n",
      "Average Error: 0.4708 degrees.\n",
      "Accuracy = 97.29%.\n",
      "_m1_k1 Model Performance\n",
      "Average Error: 1.1100 degrees.\n",
      "Accuracy = 93.58%.\n",
      "Variable: tmp                  Importance: 0.06\n",
      "Variable: vpd                  Importance: 0.09\n",
      "Variable: par                  Importance: 0.11\n",
      "Variable: stressB              Importance: 0.29\n",
      "Variable: CO2                  Importance: 0.45\n",
      "2 [   0    1    2 ... 4225 4226 4227]\n",
      "Base Model Performance\n",
      "Average Error: 0.4827 degrees.\n",
      "Accuracy = 97.05%.\n",
      "_m1_k2 Model Performance\n",
      "Average Error: 1.1263 degrees.\n",
      "Accuracy = 93.09%.\n",
      "Variable: tmp                  Importance: 0.0\n",
      "Variable: vpd                  Importance: 0.19\n",
      "Variable: par                  Importance: 0.03\n",
      "Variable: stressB              Importance: 0.22\n",
      "Variable: CO2                  Importance: 0.56\n",
      "3 [   0    1    2 ... 4223 4224 4227]\n",
      "Base Model Performance\n",
      "Average Error: 0.4807 degrees.\n",
      "Accuracy = 97.07%.\n",
      "_m1_k3 Model Performance\n",
      "Average Error: 1.1256 degrees.\n",
      "Accuracy = 93.09%.\n",
      "Variable: tmp                  Importance: 0.1\n",
      "Variable: vpd                  Importance: 0.13\n",
      "Variable: par                  Importance: 0.08\n",
      "Variable: stressB              Importance: 0.25\n",
      "Variable: CO2                  Importance: 0.44\n",
      "4 [   1    2    4 ... 4225 4226 4227]\n",
      "Base Model Performance\n",
      "Average Error: 0.4779 degrees.\n",
      "Accuracy = 97.21%.\n",
      "_m1_k4 Model Performance\n",
      "Average Error: 1.1270 degrees.\n",
      "Accuracy = 93.26%.\n",
      "Variable: tmp                  Importance: 0.02\n",
      "Variable: vpd                  Importance: 0.18\n",
      "Variable: par                  Importance: 0.01\n",
      "Variable: stressB              Importance: 0.18\n",
      "Variable: CO2                  Importance: 0.61\n",
      "\n",
      "tmp 0.04 0.007\n",
      "vpd 0.14 0.008\n",
      "par 0.05 0.008\n",
      "stressB 0.22 0.01\n",
      "CO2 0.55 0.02\n"
     ]
    }
   ],
   "source": [
    "features_list = ['tmp', 'vpd', 'par', 'stressB', 'CO2']\n",
    "rfi = 1\n",
    "\n",
    "trend_result_all, df_ts_, kRF_results, rf_vi = add_rf_model(df_ts_, trend_result_all, features_list, \n",
    "                                        target_name = 'LNC_stdm', rfi = rfi)"
   ]
  },
  {
   "cell_type": "markdown",
   "id": "1eab8695",
   "metadata": {},
   "source": [
    "### Other trends"
   ]
  },
  {
   "cell_type": "code",
   "execution_count": 20,
   "id": "aeddddf4",
   "metadata": {},
   "outputs": [],
   "source": [
    "for y_var in ['TC_pdsi_gs_yi', 'TC_tmean_gs_yi', 'TC_vpd_gs_yi', 'TC_par_gs_yi',\n",
    "              's_stressB_gs_yi_canopy_swb', \n",
    "               's_epsilon_gs_yi_canopy_swb',  \n",
    "             ]:\n",
    "    #print(y_var)\n",
    "    trend_result_ = trend_summary_df(y_var, df_ts_)\n",
    "    for k in trend_result_:\n",
    "        if k not in ['Lat', 'Lon', 'sp', 'n_years']:\n",
    "            trend_result_all[k] = trend_result_[k]"
   ]
  },
  {
   "cell_type": "code",
   "execution_count": 21,
   "id": "bc3cf061",
   "metadata": {
    "scrolled": true
   },
   "outputs": [
    {
     "data": {
      "text/plain": [
       "Index(['Lat', 'Lon', 'sp', 'n_years', 'trend LNC_stdm', 'delta LNC_stdm',\n",
       "       'deltaC LNC_stdm', 'trend_p LNC_stdm', 'TC_par_gs_LTavg',\n",
       "       'TC_pet_gs_LTavg', 'TC_pre_gs_LTavg', 'TC_tmean_gs_LTavg',\n",
       "       'TC_vpd_gs_LTavg', 'TC_AI_gs_LTavg', 's_stressB_gs_yi_canopy_swb',\n",
       "       's_epsilon_gs_yi_canopy_swb', 'trend vcmax25_gs_yi_sunlit_ww_stdm',\n",
       "       'delta vcmax25_gs_yi_sunlit_ww_stdm',\n",
       "       'deltaC vcmax25_gs_yi_sunlit_ww_stdm',\n",
       "       'trend_p vcmax25_gs_yi_sunlit_ww_stdm', 'trend nue_gs_yi_sunlit_ww',\n",
       "       'delta nue_gs_yi_sunlit_ww', 'deltaC nue_gs_yi_sunlit_ww',\n",
       "       'trend_p nue_gs_yi_sunlit_ww', 'trend vcmax25_gs_LTavg_sunlit_ww_stdm',\n",
       "       'delta vcmax25_gs_LTavg_sunlit_ww_stdm',\n",
       "       'deltaC vcmax25_gs_LTavg_sunlit_ww_stdm',\n",
       "       'trend_p vcmax25_gs_LTavg_sunlit_ww_stdm',\n",
       "       'trend nue_gs_LTavg_sunlit_ww', 'delta nue_gs_LTavg_sunlit_ww',\n",
       "       'deltaC nue_gs_LTavg_sunlit_ww', 'trend_p nue_gs_LTavg_sunlit_ww',\n",
       "       'trend vcmax25_gs_yi_sunlit_ww0_stdm',\n",
       "       'delta vcmax25_gs_yi_sunlit_ww0_stdm',\n",
       "       'deltaC vcmax25_gs_yi_sunlit_ww0_stdm',\n",
       "       'trend_p vcmax25_gs_yi_sunlit_ww0_stdm', 'trend nue_gs_yi_sunlit_ww0',\n",
       "       'delta nue_gs_yi_sunlit_ww0', 'deltaC nue_gs_yi_sunlit_ww0',\n",
       "       'trend_p nue_gs_yi_sunlit_ww0',\n",
       "       'trend vcmax25_gs_yi_sunlit_s_stressB_stdm',\n",
       "       'delta vcmax25_gs_yi_sunlit_s_stressB_stdm',\n",
       "       'deltaC vcmax25_gs_yi_sunlit_s_stressB_stdm',\n",
       "       'trend_p vcmax25_gs_yi_sunlit_s_stressB_stdm',\n",
       "       'trend nue_gs_yi_sunlit_s_stressB', 'delta nue_gs_yi_sunlit_s_stressB',\n",
       "       'deltaC nue_gs_yi_sunlit_s_stressB',\n",
       "       'trend_p nue_gs_yi_sunlit_s_stressB',\n",
       "       'trend vcmax25_gs_LTavg_sunlit_s_stressB_stdm',\n",
       "       'delta vcmax25_gs_LTavg_sunlit_s_stressB_stdm',\n",
       "       'deltaC vcmax25_gs_LTavg_sunlit_s_stressB_stdm',\n",
       "       'trend_p vcmax25_gs_LTavg_sunlit_s_stressB_stdm',\n",
       "       'trend nue_gs_LTavg_sunlit_s_stressB',\n",
       "       'delta nue_gs_LTavg_sunlit_s_stressB',\n",
       "       'deltaC nue_gs_LTavg_sunlit_s_stressB',\n",
       "       'trend_p nue_gs_LTavg_sunlit_s_stressB',\n",
       "       'trend vcmax25_gs_yi_sunlit_s_stressB0_stdm',\n",
       "       'delta vcmax25_gs_yi_sunlit_s_stressB0_stdm',\n",
       "       'deltaC vcmax25_gs_yi_sunlit_s_stressB0_stdm',\n",
       "       'trend_p vcmax25_gs_yi_sunlit_s_stressB0_stdm',\n",
       "       'trend nue_gs_yi_sunlit_s_stressB0',\n",
       "       'delta nue_gs_yi_sunlit_s_stressB0',\n",
       "       'deltaC nue_gs_yi_sunlit_s_stressB0',\n",
       "       'trend_p nue_gs_yi_sunlit_s_stressB0', 'trend RF_LNC_m1',\n",
       "       'delta RF_LNC_m1', 'deltaC RF_LNC_m1', 'trend_p RF_LNC_m1',\n",
       "       'trend TC_pdsi_gs_yi', 'delta TC_pdsi_gs_yi', 'deltaC TC_pdsi_gs_yi',\n",
       "       'trend_p TC_pdsi_gs_yi', 'trend TC_tmean_gs_yi', 'delta TC_tmean_gs_yi',\n",
       "       'deltaC TC_tmean_gs_yi', 'trend_p TC_tmean_gs_yi', 'trend TC_vpd_gs_yi',\n",
       "       'delta TC_vpd_gs_yi', 'deltaC TC_vpd_gs_yi', 'trend_p TC_vpd_gs_yi',\n",
       "       'trend TC_par_gs_yi', 'delta TC_par_gs_yi', 'deltaC TC_par_gs_yi',\n",
       "       'trend_p TC_par_gs_yi', 'trend s_stressB_gs_yi_canopy_swb',\n",
       "       'delta s_stressB_gs_yi_canopy_swb', 'deltaC s_stressB_gs_yi_canopy_swb',\n",
       "       'trend_p s_stressB_gs_yi_canopy_swb',\n",
       "       'trend s_epsilon_gs_yi_canopy_swb', 'delta s_epsilon_gs_yi_canopy_swb',\n",
       "       'deltaC s_epsilon_gs_yi_canopy_swb',\n",
       "       'trend_p s_epsilon_gs_yi_canopy_swb'],\n",
       "      dtype='object')"
      ]
     },
     "execution_count": 21,
     "metadata": {},
     "output_type": "execute_result"
    }
   ],
   "source": [
    "trend_result_all.keys()"
   ]
  },
  {
   "cell_type": "markdown",
   "id": "8c10f219",
   "metadata": {},
   "source": [
    "# Save results"
   ]
  },
  {
   "cell_type": "code",
   "execution_count": 22,
   "id": "9ff69cba",
   "metadata": {},
   "outputs": [],
   "source": [
    "df_ts_.to_csv('../outputs/Results/df_ts_results.csv') \n",
    "    \n",
    "trend_result_all.to_csv('../outputs/Results/trend_result_all.csv') \n",
    "\n",
    "\n",
    "np.save('../outputs/Results/rf_vi.npy', rf_vi)\n",
    "#np.save('../OLNI_out/kRF_results.npy', kRF_results)"
   ]
  },
  {
   "cell_type": "code",
   "execution_count": null,
   "id": "b774e446",
   "metadata": {},
   "outputs": [],
   "source": []
  },
  {
   "cell_type": "code",
   "execution_count": null,
   "id": "fec9b2c6",
   "metadata": {},
   "outputs": [],
   "source": []
  },
  {
   "cell_type": "code",
   "execution_count": null,
   "id": "a10f36c1",
   "metadata": {},
   "outputs": [],
   "source": []
  },
  {
   "cell_type": "code",
   "execution_count": null,
   "id": "6cbafda7",
   "metadata": {},
   "outputs": [],
   "source": []
  },
  {
   "cell_type": "code",
   "execution_count": null,
   "id": "246132b6",
   "metadata": {},
   "outputs": [],
   "source": []
  }
 ],
 "metadata": {
  "kernelspec": {
   "display_name": "basePy3.9",
   "language": "python",
   "name": "basepy3.9"
  },
  "language_info": {
   "codemirror_mode": {
    "name": "ipython",
    "version": 3
   },
   "file_extension": ".py",
   "mimetype": "text/x-python",
   "name": "python",
   "nbconvert_exporter": "python",
   "pygments_lexer": "ipython3",
   "version": "3.11.5"
  }
 },
 "nbformat": 4,
 "nbformat_minor": 5
}
